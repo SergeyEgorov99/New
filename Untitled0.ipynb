{
  "nbformat": 4,
  "nbformat_minor": 0,
  "metadata": {
    "colab": {
      "provenance": [],
      "authorship_tag": "ABX9TyPJ7Jx+hk6KxnlY6rnyePTE",
      "include_colab_link": true
    },
    "kernelspec": {
      "name": "python3",
      "display_name": "Python 3"
    },
    "language_info": {
      "name": "python"
    }
  },
  "cells": [
    {
      "cell_type": "markdown",
      "metadata": {
        "id": "view-in-github",
        "colab_type": "text"
      },
      "source": [
        "<a href=\"https://colab.research.google.com/github/SergeyEgorov99/New/blob/main/Untitled0.ipynb\" target=\"_parent\"><img src=\"https://colab.research.google.com/assets/colab-badge.svg\" alt=\"Open In Colab\"/></a>"
      ]
    },
    {
      "cell_type": "code",
      "execution_count": 26,
      "metadata": {
        "colab": {
          "base_uri": "https://localhost:8080/"
        },
        "id": "jw0Pyr30uR0S",
        "outputId": "99626058-b5eb-4e80-c8ac-d4ff5eb26a1a"
      },
      "outputs": [
        {
          "output_type": "stream",
          "name": "stdout",
          "text": [
            "Drive already mounted at /content/gdrive; to attempt to forcibly remount, call drive.mount(\"/content/gdrive\", force_remount=True).\n"
          ]
        }
      ],
      "source": [
        "# Импортируем необходимые библиотеки\n",
        "from jira import JIRA\n",
        "from google.colab import auth\n",
        "from google.colab import drive\n",
        "from oauth2client.service_account import ServiceAccountCredentials\n",
        "import gspread\n",
        "from datetime import datetime, date\n",
        "\n",
        "# Подключаемся к Google Drive\n",
        "drive.mount('/content/gdrive')\n",
        "\n",
        "# Указываем параметры для подключения к Jira\n",
        "jira_options = {'server': 'https://hd.goods.ru'}\n",
        "jira = JIRA(options=jira_options, basic_auth=('egorov', 'Goods_2018'))  # замените 'your_username' и 'your_password' на ваши логин и пароль от Jira\n",
        "\n",
        "# Выполняем запрос к Jira\n",
        "issues = jira.search_issues('reporter in (egorov, nosov, kstepanov, oseev, izotov, npanov) and createdDate >= 2023-03-01')  # замените 'jql query' на ваш JQL-запрос\n",
        "\n",
        "# Указываем данные для подключения к Google Sheets\n",
        "scope = ['https://spreadsheets.google.com/feeds','https://www.googleapis.com/auth/drive']\n",
        "creds = ServiceAccountCredentials.from_json_keyfile_name('/content/gdrive/My Drive/from-jira-ec7b3fe8d5a9.json', scope)  # замените 'path_to_your_key.json' на путь к вашему файлу ключа на Google Drive\n",
        "client = gspread.authorize(creds)\n",
        "\n",
        "# Получаем доступ к Google Sheets\n",
        "sheet = client.open('Jira').sheet1  # замените 'your-google-sheet-name' на имя вашей таблицы Google Sheets\n",
        "\n",
        "# Добавляем данные из Jira в Google Sheets\n",
        "for issue in issues:\n",
        "    key = issue.key  # добавление поля key\n",
        "    reporter = issue.fields.reporter.displayName  # использование displayName пользователя\n",
        "\n",
        "    # Преобразование даты создания и обновления задачи в формат день-месяц-год\n",
        "    createdDate = datetime.strptime(issue.fields.created[:10], \"%Y-%m-%d\").strftime('%d-%m-%Y')\n",
        "    updatedDate = datetime.strptime(issue.fields.updated[:10], \"%Y-%m-%d\").strftime('%d-%m-%Y')\n",
        "\n",
        "    status = issue.fields.status.name  # использование имени статуса\n",
        "    currentDate = date.today().strftime('%d-%m-%Y')  # текущая дата без времени\n",
        "    row = [currentDate, key, reporter, createdDate, status, updatedDate]  # добавление поля key в список\n",
        "    sheet.append_row(row)\n",
        "\n"
      ]
    }
  ]
}